{
 "cells": [
  {
   "cell_type": "markdown",
   "metadata": {},
   "source": [
    "这个文件主要是用来如何使用lightgbm"
   ]
  },
  {
   "cell_type": "markdown",
   "metadata": {},
   "source": [
    "**第一种形式是用来分类**\n",
    "\n",
    "这里第一才用的形式主要是用来表示lightgbm可以直接使用使用DataFrame格式"
   ]
  },
  {
   "cell_type": "code",
   "execution_count": null,
   "metadata": {},
   "outputs": [],
   "source": [
    "# 导入lightgbm\n",
    "import light as lgb\n",
    "\n",
    "#target 表示训练集的label\n",
    "target=train['isFraud']\n",
    "# train 表示训练集的特征\n",
    "train=train.drop('isFraud',axis=1)\n",
    "\n",
    "#接下来我们使用train 进行训练\n",
    "\n",
    "##lightgbm的参数\n",
    "lgb_params=dict(objective='binary',\n",
    "               num_leaves=62,\n",
    "               seed=seed,\n",
    "               max_depth=9,\n",
    "               pos_bagging_fraction=0.5,\n",
    "               neg_bagging_fraction=1.0,\n",
    "               bagging_freq=5,\n",
    "               feature_fraction=0.9,\n",
    "                metric='auc',\n",
    "               learning_rate=0.05,\n",
    "               verbosity=-1,\n",
    "               device='gpu')#device = 'gpu' 表示使用gpu进行训练\n",
    "# 转化train 的格式为lgb 所需要的参数\n",
    "train_d=lgb.Dataset(train.values,label=target.values)\n",
    "\n",
    "\n",
    "#进行模型训练\n",
    "##损失函数使用的是auc，这里并没用使用,eval_set=[(val_X,val_y)]，早停步数是10,也就是说如果10以内没有优化更新更好的auc，将停止作为最优步数，\n",
    "##观看的步数是每20步一次。\n",
    "clf=lgb.train(lgb_params,train_d,num_boost_round=1000,verbose_eval=20,early_stopping_rounds=10)\n",
    "\n",
    "\n",
    "## 结果预测，将训练好的结果预测给需要预测的部分。\n",
    "pred = clf.predict(test.values)\n"
   ]
  }
 ],
 "metadata": {
  "kernelspec": {
   "display_name": "Python 3",
   "language": "python",
   "name": "python3"
  },
  "language_info": {
   "codemirror_mode": {
    "name": "ipython",
    "version": 3
   },
   "file_extension": ".py",
   "mimetype": "text/x-python",
   "name": "python",
   "nbconvert_exporter": "python",
   "pygments_lexer": "ipython3",
   "version": "3.7.3"
  }
 },
 "nbformat": 4,
 "nbformat_minor": 2
}
