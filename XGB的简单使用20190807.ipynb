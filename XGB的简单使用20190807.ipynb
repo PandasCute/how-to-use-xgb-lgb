{
 "cells": [
  {
   "cell_type": "markdown",
   "metadata": {},
   "source": [
    "这个文件主要是用来如何使用xgb"
   ]
  },
  {
   "cell_type": "markdown",
   "metadata": {},
   "source": [
    "**第一种形式是用来分类**\n",
    "\n",
    "这里第一才用的形式主要是用来表示xgboost可以直接使用使用DataFrame格式"
   ]
  },
  {
   "cell_type": "code",
   "execution_count": null,
   "metadata": {},
   "outputs": [],
   "source": [
    "# 导入xgboost分类包。XGBClassifier表示分类\n",
    "from xgboost import XGBClassifier\n",
    "\n",
    "#target 表示训练集的label\n",
    "target=train['isFraud']\n",
    "# train 表示训练集的特征\n",
    "train=train.drop('isFraud',axis=1)\n",
    "\n",
    "#接下来我们使用train 进行训练\n",
    "\n",
    "##xgboost的参数\n",
    "xgb_params=dict(n_estimators=1000,\n",
    "                verbosity=0,\n",
    "                tree_method='gpu_hist',#这个表示你使用GPU版本的，速度会快一点\n",
    "                random_state=seed,\n",
    "               colsample_bytree=0.6,\n",
    "               subsample=0.6,\n",
    "               learning_rate=0.05,\n",
    "               max_depth=9)\n",
    "# 将参数导入xgboost\n",
    "clf=XGBClassifier(**params)\n",
    "\n",
    "#进行模型训练\n",
    "##损失函数使用的是auc，这里并没用使用,eval_set=[(val_X,val_y)]，早停步数是10,也就是说如果10以内没有优化更新更好的auc，将停止作为最优步数，\n",
    "##观看的步数是每20步一次。\n",
    "clf.fit(train,target,eval_metric='auc',early_stopping_rounds=10,verbose=20)\n",
    "\n",
    "\n",
    "## 结果预测，将训练好的结果预测给需要预测的部分。\n",
    "val_pred=clf.predict_proba(val_X)[:,1]\n"
   ]
  }
 ],
 "metadata": {
  "kernelspec": {
   "display_name": "Python 3",
   "language": "python",
   "name": "python3"
  },
  "language_info": {
   "codemirror_mode": {
    "name": "ipython",
    "version": 3
   },
   "file_extension": ".py",
   "mimetype": "text/x-python",
   "name": "python",
   "nbconvert_exporter": "python",
   "pygments_lexer": "ipython3",
   "version": "3.7.3"
  }
 },
 "nbformat": 4,
 "nbformat_minor": 2
}
